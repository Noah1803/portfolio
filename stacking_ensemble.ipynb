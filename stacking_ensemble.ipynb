{
 "cells": [
  {
   "cell_type": "code",
   "execution_count": null,
   "metadata": {},
   "outputs": [],
   "source": [
    "from sklearn.ensemble import StackingClassifier\n",
    "import time\n",
    "import xgboost\n",
    "from sklearn.tree import DecisionTreeClassifier\n",
    "from sklearn.ensemble import RandomForestClassifier\n",
    "from sklearn.neighbors import KNeighborsClassifier\n",
    "from sklearn.linear_model import LogisticRegression\n"
   ]
  },
  {
   "cell_type": "code",
   "execution_count": null,
   "metadata": {},
   "outputs": [],
   "source": [
    "base_models = [\n",
    "    ('KNN', KNeighborsClassifier()),\n",
    "    ('LogReg',LogisticRegression(max_iter=100000)),\n",
    "    ('Random Forest',RandomForestClassifier()),\n",
    "    ('DecisionTree',DecisionTreeClassifier()),\n",
    "    ('XGboost', xgboost.XGBClassifier())\n",
    "    ]\n",
    "stacked = StackingClassifier(\n",
    "    estimators = base_models,\n",
    "    final_estimator = LogisticRegression(max_iter=100000),\n",
    "    cv = 5)"
   ]
  },
  {
   "cell_type": "code",
   "execution_count": null,
   "metadata": {},
   "outputs": [],
   "source": [
    "for name, model in base_models:\n",
    "    start_time = time.time()\n",
    "    model.fit(x_train, y_train)\n",
    "    prediction = model.predict(x_test)\n",
    "    end_time = time.time()\n",
    "    \n",
    "    r2 = model.score(x_test, y_test)\n",
    "    cr = classification_report(prediction, y_test)\n",
    "    \n",
    "    print(\"-------{}-------\".format(name))\n",
    "    print(\"Coefficient of determination: {}\".format(r2))\n",
    "    print(\"Classification Report:\",cr)\n",
    "    print(\"Computation Time: {}\".format(end_time - start_time))\n",
    "    print(\"----------------------------------\\n\")\n",
    "start_time = time.time()\n",
    "stacked.fit(x_train, y_train)    \n",
    "stacked_prediction = stacked.predict(x_test)\n",
    "end_time = time.time()\n",
    "stacked_r2 = stacked.score(x_test, y_test)\n",
    "stacked_cr = classification_report(stacked_prediction, y_test)\n",
    "print(\"-------Stacked Ensemble-------\")\n",
    "print(\"Coefficient of determination: {}\".format(stacked_r2))\n",
    "print(f\"Classification Report:\",cr)\n",
    "print(\"Computation Time: {}\".format(end_time - start_time))\n",
    "print(\"----------------------------------\")\n"
   ]
  }
 ],
 "metadata": {
  "language_info": {
   "name": "python"
  },
  "orig_nbformat": 4
 },
 "nbformat": 4,
 "nbformat_minor": 2
}
